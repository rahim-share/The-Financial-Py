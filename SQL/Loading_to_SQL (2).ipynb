{
 "cells": [
  {
   "cell_type": "code",
   "execution_count": null,
   "id": "cf982951",
   "metadata": {},
   "outputs": [],
   "source": [
    "import pandas as pd\n",
    "#Import dependecis to connect to database\n",
    "from sqlalchemy import create_engine\n",
    "import configparser"
   ]
  },
  {
   "cell_type": "code",
   "execution_count": null,
   "id": "a3671185",
   "metadata": {},
   "outputs": [],
   "source": [
    "parser = configparser.ConfigParser()\n",
    "parser.read(\"credentials.conf\")\n",
    "\n",
    "host = parser.get(\"postgres_configuration\",\"host\")\n",
    "port = parser.get(\"postgres_configuration\",\"port\")\n",
    "database = parser.get(\"postgres_configuration\",\"database\")\n",
    "username = parser.get(\"postgres_configuration\",\"username\")\n",
    "password = parser.get(\"postgres_configuration\",\"password\")"
   ]
  },
  {
   "cell_type": "code",
   "execution_count": null,
   "id": "d7c6f00b",
   "metadata": {},
   "outputs": [],
   "source": [
    "#Connecting to Db\n",
    "rds_connection_string = f'{username}:{password}@{host}:{port}/{database}'\n",
    "engine = create_engine(f'postgresql://{rds_connection_string}')\n",
    "engine.table_names()"
   ]
  },
  {
   "cell_type": "code",
   "execution_count": null,
   "id": "af404539",
   "metadata": {},
   "outputs": [],
   "source": [
    "#Opening housing 2020 CSV file\n",
    "merge_df_2020 = pd.read_csv('../Clean_csv/merge_df_2020.csv')\n",
    "merge_df_2020.head()"
   ]
  },
  {
   "cell_type": "code",
   "execution_count": null,
   "id": "ddb038ee",
   "metadata": {},
   "outputs": [],
   "source": [
    "merge_df_2020 = merge_df_2020[['LAD', 'CTY', 'Rgn_Code', 'Date', 'SalesVolume', 'AveragePrice']].copy()"
   ]
  },
  {
   "cell_type": "code",
   "execution_count": null,
   "id": "5357fc25",
   "metadata": {},
   "outputs": [],
   "source": [
    "#Using pandas to load csv into database\n",
    "merge_df_2020.to_sql(name='housing2020', con=engine, if_exists='append', index=False)"
   ]
  },
  {
   "cell_type": "code",
   "execution_count": null,
   "id": "13ffabe1",
   "metadata": {},
   "outputs": [],
   "source": [
    "#Confirming data has been added by quering the housing2020 table\n",
    "pd.read_sql_query('select * from housing2020', con=engine).head()"
   ]
  },
  {
   "cell_type": "code",
   "execution_count": null,
   "id": "95f81a4e",
   "metadata": {},
   "outputs": [],
   "source": [
    "#Opening housing 2008 CSV file\n",
    "merge_df_2008 = pd.read_csv('../Clean_csv/merge_df_2008.csv')\n",
    "merge_df_2008.head()"
   ]
  },
  {
   "cell_type": "code",
   "execution_count": null,
   "id": "53076fc4",
   "metadata": {},
   "outputs": [],
   "source": [
    "merge_df_2008 = merge_df_2008[['LAD', 'CTY', 'Rgn_Code', 'Date', 'SalesVolume', 'AveragePrice']].copy()"
   ]
  },
  {
   "cell_type": "code",
   "execution_count": null,
   "id": "e7f46bfa",
   "metadata": {},
   "outputs": [],
   "source": [
    "#Using pandas to load csv into database\n",
    "merge_df_2008.to_sql(name='housing2008', con=engine, if_exists='append', index=False)"
   ]
  },
  {
   "cell_type": "code",
   "execution_count": null,
   "id": "b2d8d7f5",
   "metadata": {},
   "outputs": [],
   "source": [
    "#Confirming data has been added by quering the housing2008 table\n",
    "pd.read_sql_query('select * from housing2008', con=engine).head()"
   ]
  },
  {
   "cell_type": "code",
   "execution_count": null,
   "id": "bc797d77",
   "metadata": {},
   "outputs": [],
   "source": [
    "#Opening counties CSV file\n",
    "counties_df = pd.read_csv('../Clean_csv/counties.csv')\n",
    "counties_df.head()"
   ]
  },
  {
   "cell_type": "code",
   "execution_count": null,
   "id": "a91ac847",
   "metadata": {},
   "outputs": [],
   "source": [
    "counties_df = counties_df.drop(labels='Unnamed: 0', axis=1)"
   ]
  },
  {
   "cell_type": "code",
   "execution_count": null,
   "id": "89a4d116",
   "metadata": {},
   "outputs": [],
   "source": [
    "#Using pandas to load csv into database\n",
    "counties_df.to_sql(name='counties', con=engine, if_exists='append', index=False)"
   ]
  },
  {
   "cell_type": "code",
   "execution_count": null,
   "id": "5c56bfe2",
   "metadata": {},
   "outputs": [],
   "source": [
    "#Confirming data has been added by quering the housing2008 table\n",
    "pd.read_sql_query('select * from counties', con=engine).head()"
   ]
  }
 ],
 "metadata": {
  "kernelspec": {
   "display_name": "Python 3",
   "language": "python",
   "name": "python3"
  },
  "language_info": {
   "codemirror_mode": {
    "name": "ipython",
    "version": 3
   },
   "file_extension": ".py",
   "mimetype": "text/x-python",
   "name": "python",
   "nbconvert_exporter": "python",
   "pygments_lexer": "ipython3",
   "version": "3.8.8"
  }
 },
 "nbformat": 4,
 "nbformat_minor": 5
}
